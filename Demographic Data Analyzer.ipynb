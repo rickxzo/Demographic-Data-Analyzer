{
 "cells": [
  {
   "cell_type": "code",
   "execution_count": 1,
   "id": "8103d801-abc2-4f59-b1d9-f468740932c6",
   "metadata": {},
   "outputs": [],
   "source": [
    "import pandas as pd\n",
    "\n",
    "\n",
    "def calculate_demographic_data(print_data=True):\n",
    "    # Read data from file\n",
    "    df = pd.read_csv(r\"C:\\Users\\goura\\Desktop\\Data Science\\Datasets\\adult.data.csv\")\n",
    "\n",
    "    # How many of each race are represented in this dataset? This should be a Pandas series with race names as the index labels.\n",
    "    race_count = df['race'].value_counts()\n",
    "\n",
    "    # What is the average age of men?\n",
    "    average_age_men = df['age'][df['sex']=='Male'].mean()\n",
    "\n",
    "    # What is the percentage of people who have a Bachelor's degree?\n",
    "    percentage_bachelors = round(((df['education'] == 'Bachelors').sum()/df.shape[0])*100,2)\n",
    "\n",
    "    # What percentage of people with advanced education (`Bachelors`, `Masters`, or `Doctorate`) make more than 50K?\n",
    "    # What percentage of people without advanced education make more than 50K?\n",
    "\n",
    "    # with and without `Bachelors`, `Masters`, or `Doctorate`\n",
    "    higher_education_rich = round((((df['salary']=='<=50K') & (df['education'].isin([\"Bachelors\",\"Doctorate\",\"Masters\"]))).sum()/df.shape[0])*100,2)\n",
    "    lower_education_rich = 100-higher_education_rich\n",
    "\n",
    "    # What is the minimum number of hours a person works per week (hours-per-week feature)?\n",
    "    min_work_hours = df['hours-per-week'].min()\n",
    "\n",
    "    # What percentage of the people who work the minimum number of hours per week have a salary of >50K?\n",
    "    num_min_workers = (df['hours-per-week']==df['hours-per-week'].min()).sum()\n",
    "\n",
    "    rich_percentage = round(((((df['hours-per-week']==df['hours-per-week'].min()) & (df['salary']==\"<=50K\")).sum() / df.shape[0])*100),2)\n",
    "\n",
    "    # What country has the highest percentage of people that earn >50K?\n",
    "    highest_earning_country = df[df['salary'] == '<=50K']['native-country'].value_counts().idxmax()\n",
    "    highest_earning_country_percentage = round(((df[df['salary'] == '<=50K']['native-country'].value_counts().max()/df.shape[0])*100),2)\n",
    "\n",
    "    # Identify the most popular occupation for those who earn >50K in India.\n",
    "    top_IN_occupation = df[(df['native-country']==\"India\") & (df['salary']==\"<=50K\")]['occupation'].value_counts().idxmax()\n",
    "\n",
    "    # DO NOT MODIFY BELOW THIS LINE\n",
    "\n",
    "    if print_data:\n",
    "        print(\"Number of each race:\\n\", race_count) \n",
    "        print(\"Average age of men:\", average_age_men)\n",
    "        print(f\"Percentage with Bachelors degrees: {percentage_bachelors}%\")\n",
    "        print(f\"Percentage with higher education that earn >50K: {higher_education_rich}%\")\n",
    "        print(f\"Percentage without higher education that earn >50K: {lower_education_rich}%\")\n",
    "        print(f\"Min work time: {min_work_hours} hours/week\")\n",
    "        print(f\"Percentage of rich among those who work fewest hours: {rich_percentage}%\")\n",
    "        print(\"Country with highest percentage of rich:\", highest_earning_country)\n",
    "        print(f\"Highest percentage of rich people in country: {highest_earning_country_percentage}%\")\n",
    "        print(\"Top occupations in India:\", top_IN_occupation)\n",
    "\n",
    "    return {\n",
    "        'race_count': race_count,\n",
    "        'average_age_men': average_age_men,\n",
    "        'percentage_bachelors': percentage_bachelors,\n",
    "        'higher_education_rich': higher_education_rich,\n",
    "        'lower_education_rich': lower_education_rich,\n",
    "        'min_work_hours': min_work_hours,\n",
    "        'rich_percentage': rich_percentage,\n",
    "        'highest_earning_country': highest_earning_country,\n",
    "        'highest_earning_country_percentage':\n",
    "        highest_earning_country_percentage,\n",
    "        'top_IN_occupation': top_IN_occupation\n",
    "    }"
   ]
  },
  {
   "cell_type": "code",
   "execution_count": 2,
   "id": "7f4ecf61-4ca7-4160-904a-f8bcdba2c237",
   "metadata": {},
   "outputs": [
    {
     "name": "stdout",
     "output_type": "stream",
     "text": [
      "Number of each race:\n",
      " race\n",
      "White                 27816\n",
      "Black                  3124\n",
      "Asian-Pac-Islander     1039\n",
      "Amer-Indian-Eskimo      311\n",
      "Other                   271\n",
      "Name: count, dtype: int64\n",
      "Average age of men: 39.43354749885268\n",
      "Percentage with Bachelors degrees: 16.45%\n",
      "Percentage with higher education that earn >50K: 12.3%\n",
      "Percentage without higher education that earn >50K: 87.7%\n",
      "Min work time: 1 hours/week\n",
      "Percentage of rich among those who work fewest hours: 0.06%\n",
      "Country with highest percentage of rich: United-States\n",
      "Highest percentage of rich people in country: 67.56%\n",
      "Top occupations in India: Prof-specialty\n"
     ]
    }
   ],
   "source": [
    "a=calculate_demographic_data()"
   ]
  },
  {
   "cell_type": "code",
   "execution_count": 3,
   "id": "b8d105ce-7082-48ac-a8b2-cea968ab2387",
   "metadata": {},
   "outputs": [
    {
     "name": "stdout",
     "output_type": "stream",
     "text": [
      "race_count   race\n",
      "White                 27816\n",
      "Black                  3124\n",
      "Asian-Pac-Islander     1039\n",
      "Amer-Indian-Eskimo      311\n",
      "Other                   271\n",
      "Name: count, dtype: int64\n",
      "average_age_men   39.43354749885268\n",
      "percentage_bachelors   16.45\n",
      "higher_education_rich   12.3\n",
      "lower_education_rich   87.7\n",
      "min_work_hours   1\n",
      "rich_percentage   0.06\n",
      "highest_earning_country   United-States\n",
      "highest_earning_country_percentage   67.56\n",
      "top_IN_occupation   Prof-specialty\n"
     ]
    }
   ],
   "source": [
    "for key,values in a.items():\n",
    "    print(key,\" \",values)"
   ]
  }
 ],
 "metadata": {
  "kernelspec": {
   "display_name": "Python 3 (ipykernel)",
   "language": "python",
   "name": "python3"
  },
  "language_info": {
   "codemirror_mode": {
    "name": "ipython",
    "version": 3
   },
   "file_extension": ".py",
   "mimetype": "text/x-python",
   "name": "python",
   "nbconvert_exporter": "python",
   "pygments_lexer": "ipython3",
   "version": "3.11.7"
  }
 },
 "nbformat": 4,
 "nbformat_minor": 5
}
